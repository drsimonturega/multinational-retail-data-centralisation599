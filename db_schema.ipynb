{
 "cells": [
  {
   "cell_type": "code",
   "execution_count": 124,
   "metadata": {},
   "outputs": [],
   "source": [
    "# Imported libaries\n",
    "from data_extraction import DataExtractor\n",
    "from data_cleaning import DataCleaning\n",
    "from database_utils import DatabaseConnector\n",
    "import numpy as np\n",
    "import pandas as pd\n",
    "from sqlalchemy import create_engine\n",
    "from sqlalchemy import inspect\n",
    "import yaml"
   ]
  },
  {
   "cell_type": "code",
   "execution_count": 138,
   "metadata": {},
   "outputs": [
    {
     "name": "stdout",
     "output_type": "stream",
     "text": [
      "here is ['dim_users', 'dim_card_details', 'dim_store_details', 'dim_products', 'test_card_details', 'test_table', 'order_table', 'dim_date_times']\n",
      "   index                             date_uuid  \\\n",
      "0      0  9476f17e-5d6a-4117-874d-9cdb38ca1fa6   \n",
      "1      1  0423a395-a04d-4e4a-bd0f-d237cbd5a295   \n",
      "2      2  65187294-bb16-4519-adc0-787bbe423970   \n",
      "3      3  579e21f7-13cb-436b-83ad-33687a4eb337   \n",
      "4      4  00ab86c3-2039-4674-b9c1-adbcbbf525bd   \n",
      "\n",
      "                              user_uuid       card_number    store_code  \\\n",
      "0  93caf182-e4e9-4c6e-bebb-60a1a9dcf9b8    30060773296197   BL-8387506C   \n",
      "1  8fe96c3a-d62d-4eb5-b313-cf12d9126a49   349624180933183  WEB-1388012W   \n",
      "2  fc461df4-b919-48b2-909e-55c95a03fe6b  3529023891650490   CH-01D85C8D   \n",
      "3  6104719f-ef14-4b09-bf04-fb0c4620acb0   213142929492281   CL-C183BE4B   \n",
      "4  9523a6d3-b2dd-4670-a51a-36aebc89f579      502067329974   SO-B5B9CB3B   \n",
      "\n",
      "  product_code  product_quantity  \n",
      "0  R7-3126933h                 3  \n",
      "1  C2-7287916l                 2  \n",
      "2  S7-1175877v                 2  \n",
      "3  D8-8421505n                 2  \n",
      "4  B6-2596063a                 2  \n",
      "Max length in column: 11\n",
      "Max length in column: 2\n"
     ]
    }
   ],
   "source": [
    "# conect to DB\n",
    "db_sch = DatabaseConnector()\n",
    "DatabaseConnector.read_db_creds(db_sch, 'db_creds_II.yaml')\n",
    "DatabaseConnector.list_db_tables(db_sch)\n",
    "work_tab = pd.read_sql_table('order_table', db_sch.engine)\n",
    "print(work_tab.head())\n",
    "#DatabaseConnector.cast_col(db_sch)\n",
    "# Find the maximum length of the values in column 'A'\n",
    "max_length_A = work_tab['product_code'].apply(len).max()\n",
    "print(f\"Max length in column: {max_length_A}\")\n",
    "max_length_B = work_tab['product_quantity'].apply(lambda x: len(str(x))).max()\n",
    "print(f\"Max length in column: {max_length_B}\")"
   ]
  },
  {
   "cell_type": "code",
   "execution_count": 134,
   "metadata": {},
   "outputs": [
    {
     "name": "stdout",
     "output_type": "stream",
     "text": [
      "['information_schema', 'public']\n",
      "index BIGINT\n",
      "date_uuid UUID\n",
      "user_uuid TEXT\n",
      "card_number BIGINT\n",
      "store_code TEXT\n",
      "product_code TEXT\n",
      "product_quantity BIGINT\n"
     ]
    }
   ],
   "source": [
    "# check col types\n",
    "insp = inspect(db_sch.engine)\n",
    "print(insp.get_schema_names())\n",
    "columns_table = insp.get_columns('order_table')  \n",
    "\n",
    "\n",
    "for c in columns_table :\n",
    "    print(c['name'], c['type'])\n",
    "\n",
    "\n"
   ]
  },
  {
   "cell_type": "code",
   "execution_count": 144,
   "metadata": {},
   "outputs": [
    {
     "name": "stdout",
     "output_type": "stream",
     "text": [
      "   index                             date_uuid  \\\n",
      "0      0  9476f17e-5d6a-4117-874d-9cdb38ca1fa6   \n",
      "1      1  0423a395-a04d-4e4a-bd0f-d237cbd5a295   \n",
      "2      2  65187294-bb16-4519-adc0-787bbe423970   \n",
      "3      3  579e21f7-13cb-436b-83ad-33687a4eb337   \n",
      "4      4  00ab86c3-2039-4674-b9c1-adbcbbf525bd   \n",
      "\n",
      "                              user_uuid       card_number    store_code  \\\n",
      "0  9476f17e-5d6a-4117-874d-9cdb38ca1fa6    30060773296197   BL-8387506C   \n",
      "1  0423a395-a04d-4e4a-bd0f-d237cbd5a295   349624180933183  WEB-1388012W   \n",
      "2  65187294-bb16-4519-adc0-787bbe423970  3529023891650490   CH-01D85C8D   \n",
      "3  579e21f7-13cb-436b-83ad-33687a4eb337   213142929492281   CL-C183BE4B   \n",
      "4  00ab86c3-2039-4674-b9c1-adbcbbf525bd      502067329974   SO-B5B9CB3B   \n",
      "\n",
      "  product_code product_quantity  \n",
      "0  R7-3126933h                3  \n",
      "1  C2-7287916l                2  \n",
      "2  S7-1175877v                2  \n",
      "3  D8-8421505n                2  \n",
      "4  B6-2596063a                2  \n",
      "['information_schema', 'public']\n",
      "index BIGINT\n",
      "date_uuid UUID\n",
      "user_uuid UUID\n",
      "card_number VARCHAR(19)\n",
      "store_code VARCHAR(12)\n",
      "product_code VARCHAR(11)\n",
      "product_quantity VARCHAR(2)\n"
     ]
    }
   ],
   "source": [
    "# checking sql script has worked\n",
    "\n",
    "work_tab = pd.read_sql_table('order_table', db_sch.engine)\n",
    "print(work_tab.head())\n",
    "\n",
    "insp = inspect(db_sch.engine)\n",
    "print(insp.get_schema_names())\n",
    "columns_table = insp.get_columns('order_table')  \n",
    "\n",
    "\n",
    "for c in columns_table :\n",
    "    print(c['name'], c['type'])"
   ]
  },
  {
   "cell_type": "code",
   "execution_count": 152,
   "metadata": {},
   "outputs": [
    {
     "name": "stdout",
     "output_type": "stream",
     "text": [
      "   level_0  index first_name last_name date_of_birth  \\\n",
      "0        0      0   Sigfried     Noack    1990-09-30   \n",
      "1        1      1        Guy     Allen    1940-12-01   \n",
      "2        2      2      Harry  Lawrence    1995-08-02   \n",
      "3        3      3     Darren   Hussain    1972-09-23   \n",
      "4        4      4      Garry     Stone    1952-12-20   \n",
      "\n",
      "                     company                 email_address  \\\n",
      "0         Heydrich Junitz KG             rudi79@winkler.de   \n",
      "1                    Fox Ltd  rhodesclifford@henderson.com   \n",
      "2  Johnson, Jones and Harris  glen98@bryant-marshall.co.uk   \n",
      "3                Wheeler LLC    daniellebryan@thompson.org   \n",
      "4                 Warner Inc       billy14@long-warren.com   \n",
      "\n",
      "                                             address         country  \\\n",
      "0                       Zimmerstr. 1/0\\n59015 Gießen         Germany   \n",
      "1  Studio 22a\\nLynne terrace\\nMcCarthymouth\\nTF0 9GH  United Kingdom   \n",
      "2                 92 Ann drive\\nJoanborough\\nSK0 6LR  United Kingdom   \n",
      "3             19 Robinson meadow\\nNew Tracy\\nW22 2QG  United Kingdom   \n",
      "4              3 White pass\\nHunterborough\\nNN96 4UE  United Kingdom   \n",
      "\n",
      "  country_code       phone_number  join_date  \\\n",
      "0           DE   +49(0) 047905356 2018-10-10   \n",
      "1           GB    (0161) 496 0674 2001-12-20   \n",
      "2           GB  +44(0)121 4960340 2016-12-16   \n",
      "3           GB    (0306) 999 0871 2004-02-23   \n",
      "4           GB      0121 496 0225 2006-09-01   \n",
      "\n",
      "                              user_uuid  \n",
      "0  93caf182-e4e9-4c6e-bebb-60a1a9dcf9b8  \n",
      "1  8fe96c3a-d62d-4eb5-b313-cf12d9126a49  \n",
      "2  fc461df4-b919-48b2-909e-55c95a03fe6b  \n",
      "3  6104719f-ef14-4b09-bf04-fb0c4620acb0  \n",
      "4  9523a6d3-b2dd-4670-a51a-36aebc89f579  \n",
      "Max length in column: 3\n"
     ]
    }
   ],
   "source": [
    "# checking max length of columns\n",
    "work_tab = pd.read_sql_table('dim_users', db_sch.engine)\n",
    "print(work_tab.head())\n",
    "#DatabaseConnector.cast_col(db_sch)\n",
    "# Find the maximum length of the values in column 'A'\n",
    "max_length_A = work_tab['country_code'].apply(len).max()\n",
    "print(f\"Max length in column: {max_length_A}\")\n",
    "#max_length_B = work_tab['product_quantity'].apply(lambda x: len(str(x))).max()\n",
    "#print(f\"Max length in column: {max_length_B}\")"
   ]
  },
  {
   "cell_type": "code",
   "execution_count": 151,
   "metadata": {},
   "outputs": [
    {
     "name": "stdout",
     "output_type": "stream",
     "text": [
      "['information_schema', 'public']\n",
      "level_0 BIGINT\n",
      "index BIGINT\n",
      "first_name VARCHAR(255)\n",
      "last_name VARCHAR(255)\n",
      "date_of_birth DATE\n",
      "company TEXT\n",
      "email_address TEXT\n",
      "address TEXT\n",
      "country TEXT\n",
      "country_code VARCHAR(3)\n",
      "phone_number TEXT\n",
      "join_date DATE\n",
      "user_uuid UUID\n"
     ]
    }
   ],
   "source": [
    "# check col types\n",
    "insp = inspect(db_sch.engine)\n",
    "print(insp.get_schema_names())\n",
    "columns_table = insp.get_columns('dim_users')  \n",
    "\n",
    "\n",
    "for c in columns_table :\n",
    "    print(c['name'], c['type'])"
   ]
  },
  {
   "cell_type": "code",
   "execution_count": 155,
   "metadata": {},
   "outputs": [
    {
     "name": "stdout",
     "output_type": "stream",
     "text": [
      "   index                                            address longitude   lat  \\\n",
      "0    450  Gotthilf-Rose-Straße 7/3\\n45457 Feuchtwangen, ...  50.64336  None   \n",
      "\n",
      "     locality   store_code staff_numbers opening_date store_type latitude  \\\n",
      "0  Bad Honnef  BA-B4AED588            36   2001-05-12      Local   7.2278   \n",
      "\n",
      "  country_code continent  \n",
      "0           DE  eeEurope  \n",
      "index BIGINT\n",
      "address TEXT\n",
      "longitude TEXT\n",
      "lat TEXT\n",
      "locality TEXT\n",
      "store_code TEXT\n",
      "staff_numbers TEXT\n",
      "opening_date TIMESTAMP\n",
      "store_type TEXT\n",
      "latitude TEXT\n",
      "country_code TEXT\n",
      "continent TEXT\n"
     ]
    }
   ],
   "source": [
    "# checking sql script has worked\n",
    "\n",
    "work_tab = pd.read_sql_table('dim_store_details', db_sch.engine)\n",
    "print(work_tab.head())\n",
    "\n",
    "insp = inspect(db_sch.engine)\n",
    "#print(insp.get_schema_names())\n",
    "columns_table = insp.get_columns('dim_store_details')  \n",
    "\n",
    "\n",
    "for c in columns_table :\n",
    "    print(c['name'], c['type'])"
   ]
  },
  {
   "cell_type": "code",
   "execution_count": null,
   "metadata": {},
   "outputs": [],
   "source": []
  }
 ],
 "metadata": {
  "kernelspec": {
   "display_name": "sql_demo",
   "language": "python",
   "name": "python3"
  },
  "language_info": {
   "codemirror_mode": {
    "name": "ipython",
    "version": 3
   },
   "file_extension": ".py",
   "mimetype": "text/x-python",
   "name": "python",
   "nbconvert_exporter": "python",
   "pygments_lexer": "ipython3",
   "version": "3.10.6"
  }
 },
 "nbformat": 4,
 "nbformat_minor": 2
}
